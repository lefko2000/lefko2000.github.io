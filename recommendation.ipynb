{
  "nbformat": 4,
  "nbformat_minor": 0,
  "metadata": {
    "colab": {
      "provenance": [],
      "authorship_tag": "ABX9TyN3HVgmUhu2jB61vp9rv7+E",
      "include_colab_link": true
    },
    "kernelspec": {
      "name": "python3",
      "display_name": "Python 3"
    },
    "language_info": {
      "name": "python"
    },
    "accelerator": "GPU",
    "gpuClass": "standard"
  },
  "cells": [
    {
      "cell_type": "markdown",
      "metadata": {
        "id": "view-in-github",
        "colab_type": "text"
      },
      "source": [
        "<a href=\"https://colab.research.google.com/github/lefko2000/lefko2000.github.io/blob/master/recommendation.ipynb\" target=\"_parent\"><img src=\"https://colab.research.google.com/assets/colab-badge.svg\" alt=\"Open In Colab\"/></a>"
      ]
    },
    {
      "cell_type": "code",
      "execution_count": 1,
      "metadata": {
        "id": "EY7oIKm87Flg"
      },
      "outputs": [],
      "source": [
        "import json\n",
        "import os\n",
        "import random\n",
        "from zipfile import ZipFile\n",
        "\n",
        "from google.colab import drive\n",
        "import tensorflow as tf\n",
        "import numpy as np\n"
      ]
    },
    {
      "cell_type": "markdown",
      "source": [
        "## Data loading"
      ],
      "metadata": {
        "id": "bi8Xus1ofvLg"
      }
    },
    {
      "cell_type": "code",
      "source": [
        "drive.mount(\"/content/gdrive\")\n",
        "my_path = \"/content/gdrive/path/to/zip_archive\"\n",
        "\n",
        "with ZipFile(os.path.join(my_path, \"recommendation.zip\")) as myzip:\n",
        "    myzip.extractall()"
      ],
      "metadata": {
        "id": "lXja4m0W7qcp"
      },
      "execution_count": null,
      "outputs": []
    },
    {
      "cell_type": "code",
      "source": [
        "records_dir = os.path.join(my_path, \"recommendation/dataset\")\n",
        "records_paths = [os.path.join(records_dir, fname) for fname in os.listdir(records_dir)]\n",
        "\n",
        "dataset = tf.data.TFRecordDataset(filenames = records_paths)"
      ],
      "metadata": {
        "id": "rFER4apS9Vxd"
      },
      "execution_count": 3,
      "outputs": []
    },
    {
      "cell_type": "code",
      "source": [
        "with open(os.path.join(my_path, \"recommendation/movie_title_by_index.json\"))as f:\n",
        "  movie_title_by_index = json.load(f)\n",
        "\n",
        "movie_count = len(movie_title_by_index)"
      ],
      "metadata": {
        "id": "dkwNdQh7smG2"
      },
      "execution_count": 4,
      "outputs": []
    },
    {
      "cell_type": "code",
      "source": [
        "SCHEMA = {\n",
        "        \"userIndex\": tf.io.FixedLenFeature([], tf.int64),\n",
        "        \"movieIndices\": tf.io.RaggedFeature(tf.int64, row_splits_dtype=tf.int64),\n",
        "        \"timestamps\": tf.io.RaggedFeature(tf.int64, row_splits_dtype=tf.int64)\n",
        "}\n",
        "\n",
        "def parse_movie_indices(row):\n",
        "  parsed_row = tf.io.parse_example(row, SCHEMA)\n",
        "  return parsed_row[\"movieIndices\"]\n",
        "\n",
        "for row in dataset.take(1):\n",
        "  exemple = parse_movie_indices(row)\n",
        "  print(exemple.numpy())"
      ],
      "metadata": {
        "colab": {
          "base_uri": "https://localhost:8080/"
        },
        "id": "QirGCWF7ACe4",
        "outputId": "61e39aa8-99d3-4f11-9f26-f25322cf1e34"
      },
      "execution_count": 5,
      "outputs": [
        {
          "output_type": "stream",
          "name": "stdout",
          "text": [
            "[22  6  5 25 12  3 26 14 34 21  1  4 32 28 11 15 30 18 23 10 24 36 17 19\n",
            " 35  7 31 27 16  9 20  2  8 37 33 38 13  0 29]\n"
          ]
        }
      ]
    },
    {
      "cell_type": "code",
      "source": [
        "row_count = dataset.reduce(0, lambda x, _ : x + 1).numpy()\n",
        "print(\"row count:\", row_count)"
      ],
      "metadata": {
        "colab": {
          "base_uri": "https://localhost:8080/"
        },
        "id": "qSPjB6Zfe1-_",
        "outputId": "4407ccb7-9554-470d-dbc2-0ba9d04bd326"
      },
      "execution_count": 6,
      "outputs": [
        {
          "output_type": "stream",
          "name": "stdout",
          "text": [
            "row count: 324849\n"
          ]
        }
      ]
    },
    {
      "cell_type": "markdown",
      "source": [
        "## Model construction"
      ],
      "metadata": {
        "id": "KURcNEHQfWDz"
      }
    },
    {
      "cell_type": "code",
      "source": [
        "max_len = 10\n",
        "\n",
        "class ReversibleEmbedding(tf.keras.layers.Layer):\n",
        "    def __init__(self, vocab_size, embedding_dims):\n",
        "        super().__init__()\n",
        "        self.w = tf.Variable(tf.random.normal([vocab_size, embedding_dims]))\n",
        "\n",
        "    def call(self, x, reversed=False):\n",
        "        if reversed:\n",
        "            return tf.matmul(x, self.w, transpose_b=True)\n",
        "        return tf.gather(self.w, x)\n",
        "\n",
        "class BiasLayer(tf.keras.layers.Layer):\n",
        "    def __init__(self, size):\n",
        "      super().__init__()\n",
        "      self.bias = tf.Variable(tf.zeros([size]))\n",
        "\n",
        "    def call(self, x):\n",
        "      return tf.add(x, self.bias)\n",
        "\n",
        "class TransformerBlock(tf.keras.layers.Layer):\n",
        "    def __init__(self, embed_dim, num_heads, ff_dim, rate=0.1):\n",
        "        super(TransformerBlock, self).__init__()\n",
        "        self.att = tf.keras.layers.MultiHeadAttention(num_heads=num_heads, key_dim=embed_dim)\n",
        "        self.ffn = tf.keras.Sequential(\n",
        "            [tf.keras.layers.Dense(ff_dim, activation= tf.nn.gelu), tf.keras.layers.Dense(embed_dim),]\n",
        "        )\n",
        "        self.layernorm1 = tf.keras.layers.LayerNormalization(epsilon=1e-6)\n",
        "        self.layernorm2 = tf.keras.layers.LayerNormalization(epsilon=1e-6)\n",
        "        self.dropout1 = tf.keras.layers.Dropout(rate)\n",
        "        self.dropout2 = tf.keras.layers.Dropout(rate)\n",
        "\n",
        "    def call(self, inputs, training):\n",
        "        attn_output = self.att(inputs, inputs)\n",
        "        attn_output = self.dropout1(attn_output, training=training)\n",
        "        out1 = self.layernorm1(inputs + attn_output)\n",
        "        ffn_output = self.ffn(out1)\n",
        "        ffn_output = self.dropout2(ffn_output, training=training)\n",
        "        return self.layernorm2(out1 + ffn_output)\n",
        "\n",
        "class TokenAndPositionEmbedding(tf.keras.layers.Layer):\n",
        "    def __init__(self, maxlen, vocab_size, embed_dim):\n",
        "        super(TokenAndPositionEmbedding, self).__init__()\n",
        "        self.token_emb = ReversibleEmbedding(vocab_size, embed_dim)\n",
        "        self.pos_emb = tf.keras.layers.Embedding(input_dim=maxlen, output_dim=embed_dim)\n",
        "\n",
        "    def call(self, x):\n",
        "        maxlen = tf.shape(x)[-1]\n",
        "        positions = tf.range(start=0, limit=maxlen, delta=1)\n",
        "        positions = self.pos_emb(positions)\n",
        "        x = self.token_emb(x)\n",
        "        return x + positions\n",
        "\n",
        "embed_dim = 32  # Embedding size for each token\n",
        "num_heads = 2  # Number of attention heads\n",
        "ff_dim = 32  # Hidden layer size in feed forward network inside transformer\n",
        "\n",
        "movie_seq = tf.keras.layers.Input(shape=(None, ), dtype=\"int32\")\n",
        "embedding_layer = TokenAndPositionEmbedding(max_len, movie_count + 2, embed_dim)\n",
        "x = embedding_layer(movie_seq)\n",
        "transformer_block = TransformerBlock(embed_dim, num_heads, ff_dim)\n",
        "x = transformer_block(x)\n",
        "x = tf.keras.layers.Dense(embed_dim, activation= tf.nn.gelu)(x)\n",
        "x = embedding_layer.token_emb(x, reversed=True) #allow shared weight with input embedding\n",
        "last_bias = BiasLayer(movie_count + 2)\n",
        "x = last_bias(x)\n",
        "soft_max = tf.keras.layers.Softmax()\n",
        "x = soft_max(x)\n",
        "\n",
        "model = tf.keras.Model(inputs=movie_seq, outputs=x)"
      ],
      "metadata": {
        "id": "DTSL9xC2IP0E"
      },
      "execution_count": 7,
      "outputs": []
    },
    {
      "cell_type": "code",
      "source": [
        "model.summary()"
      ],
      "metadata": {
        "colab": {
          "base_uri": "https://localhost:8080/"
        },
        "id": "GWwICcicIVsv",
        "outputId": "8433e9c3-0add-4243-e419-29c92058c4ee"
      },
      "execution_count": 8,
      "outputs": [
        {
          "output_type": "stream",
          "name": "stdout",
          "text": [
            "Model: \"model\"\n",
            "_________________________________________________________________\n",
            " Layer (type)                Output Shape              Param #   \n",
            "=================================================================\n",
            " input_1 (InputLayer)        [(None, None)]            0         \n",
            "                                                                 \n",
            " token_and_position_embeddin  (None, None, 32)         1307840   \n",
            " g (TokenAndPositionEmbeddin                                     \n",
            " g)                                                              \n",
            "                                                                 \n",
            " transformer_block (Transfor  (None, None, 32)         10656     \n",
            " merBlock)                                                       \n",
            "                                                                 \n",
            " dense_2 (Dense)             (None, None, 32)          1056      \n",
            "                                                                 \n",
            " reversible_embedding (Rever  (None, None, 40860)      1307520   \n",
            " sibleEmbedding)                                                 \n",
            "                                                                 \n",
            " bias_layer (BiasLayer)      (None, None, 40860)       40860     \n",
            "                                                                 \n",
            " softmax (Softmax)           (None, None, 40860)       0         \n",
            "                                                                 \n",
            "=================================================================\n",
            "Total params: 1,360,412\n",
            "Trainable params: 1,360,412\n",
            "Non-trainable params: 0\n",
            "_________________________________________________________________\n"
          ]
        }
      ]
    },
    {
      "cell_type": "markdown",
      "source": [
        "### Data set preprocessing"
      ],
      "metadata": {
        "id": "ITc7hOUpgIwr"
      }
    },
    {
      "cell_type": "code",
      "source": [
        "row_repeat_count = 2\n",
        "mask_rate = 0.1\n",
        "batch_size = 64\n",
        "seed = 1234\n",
        "train_share = 0.5\n",
        "valid_share = 0.25\n",
        "\n",
        "distinct_movie_ids = [int(k) for k in movie_title_by_index.keys()][:100]\n",
        "mask_token = max(distinct_movie_ids) + 1\n",
        "vocab = distinct_movie_ids + [mask_token]\n",
        "integer_lookup = tf.keras.layers.IntegerLookup(vocabulary=vocab)\n",
        "mask_token_id = integer_lookup.get_vocabulary()[mask_token]\n",
        "\n",
        "def get_and_apply_mask(movies, mask_token_id):\n",
        "    draws =  tf.map_fn(lambda x: tf.random.uniform([]), movies, fn_output_signature=tf.float32)\n",
        "    mask = draws < mask_rate\n",
        "    x = tf.where(mask, tf.constant(mask_token_id, dtype=tf.int64), movies)\n",
        "    y = tf.where(mask, movies, tf.constant(mask_token_id, dtype=tf.int64))\n",
        "    return x, y\n",
        "\n",
        "dataset_train = dataset.shuffle(1000, seed=seed).take(int(row_count * train_share))\n",
        "dataset_valid = dataset.shuffle(1000, seed=seed).skip(int(row_count * train_share)).take(int(row_count * valid_share))\n",
        "dataset_test = dataset.shuffle(1000, seed=seed).skip(int(row_count * (train_share + valid_share)))\n",
        "\n",
        "def proprocess_dataset(dataset):\n",
        "    return (dataset\n",
        "        .map(parse_movie_indices)\n",
        "        .map(integer_lookup)\n",
        "        .map(lambda x: x[-max_len:])\n",
        "        .repeat(row_repeat_count)\n",
        "        .map(lambda movies: get_and_apply_mask(movies, mask_token))\n",
        "        .cache()\n",
        "        .padded_batch(32, padding_values=mask_token_id)\n",
        "        .prefetch(tf.data.AUTOTUNE)\n",
        ")\n",
        "\n",
        "preprocessed_train = proprocess_dataset(dataset_train)\n",
        "preprocessed_valid = proprocess_dataset(dataset_valid)"
      ],
      "metadata": {
        "id": "FI3tGoVMNFjE"
      },
      "execution_count": 9,
      "outputs": []
    },
    {
      "cell_type": "code",
      "source": [
        "def masked_categorical_cross_entropy(y_true, y_pred):\n",
        "    mask = y_true != mask_token_id\n",
        "    true_probas = tf.gather(y_pred, y_true, axis=-1)\n",
        "    mask_count = tf.reduce_sum(tf.cast(mask, tf.float32))\n",
        "    sum_of_log_probs =  -tf.reduce_sum(tf.where(mask, tf.math.log(true_probas), tf.constant(0, dtype=tf.float32)))\n",
        "    return sum_of_log_probs / mask_count\n",
        "\n",
        "# def top_10_rate(y_true, y_pred):\n",
        "#     mask = y_true != mask_token_id\n",
        "#     values, indices  = tf.math.top_k(y_pred, k=10)\n",
        "#     in_top_10 = tf.reduce_sum(tf.cast(tf.math.equal(tf.cast(y_true, tf.int32), tf.transpose(indices, [2, 0, 1])), tf.float32), axis=0)\n",
        "#     mask_count = tf.reduce_sum(tf.cast(mask, tf.float32))\n",
        "#     in_top_10_masked_sum =  tf.reduce_sum(tf.where(mask, in_top_10, tf.constant(0, dtype=tf.float32)))\n",
        "#     return in_top_10_masked_sum / mask_count\n",
        "\n",
        "\n",
        "model.compile(optimizer='adam',\n",
        "              loss = masked_categorical_cross_entropy,\n",
        "            #   metrics = [top_10_rate],\n",
        ")\n",
        "\n",
        "history = model.fit(\n",
        "    x=preprocessed_train.take(1000),\n",
        "    validation_data=preprocessed_valid.take(1000),\n",
        "    epochs=5\n",
        ")"
      ],
      "metadata": {
        "colab": {
          "base_uri": "https://localhost:8080/"
        },
        "id": "07BScLPHbSXR",
        "outputId": "2f402aa6-0118-4b8b-8287-3d470ba55c44"
      },
      "execution_count": 10,
      "outputs": [
        {
          "output_type": "stream",
          "name": "stdout",
          "text": [
            "Epoch 1/5\n",
            "1000/1000 [==============================] - 38s 36ms/step - loss: 282.9026 - val_loss: 142.3593\n",
            "Epoch 2/5\n",
            "1000/1000 [==============================] - 36s 36ms/step - loss: 135.3023 - val_loss: 128.9986\n",
            "Epoch 3/5\n",
            "1000/1000 [==============================] - 41s 41ms/step - loss: 130.3708 - val_loss: 126.8894\n",
            "Epoch 4/5\n",
            "1000/1000 [==============================] - 41s 41ms/step - loss: 128.7454 - val_loss: 127.7535\n",
            "Epoch 5/5\n",
            "1000/1000 [==============================] - 36s 36ms/step - loss: 128.2688 - val_loss: 127.8793\n"
          ]
        }
      ]
    }
  ]
}